{
 "cells": [
  {
   "cell_type": "code",
   "execution_count": 2,
   "id": "520c6b53",
   "metadata": {},
   "outputs": [],
   "source": [
    "using Plots"
   ]
  },
  {
   "cell_type": "markdown",
   "id": "8318cad3",
   "metadata": {},
   "source": [
    "## Initialize variables"
   ]
  },
  {
   "cell_type": "markdown",
   "id": "4f45a394",
   "metadata": {},
   "source": [
    "## dz/dt = k A^m * S^n"
   ]
  },
  {
   "cell_type": "code",
   "execution_count": 174,
   "id": "ff2fb4ba",
   "metadata": {},
   "outputs": [
    {
     "data": {
      "text/plain": [
       "1.0e-5"
      ]
     },
     "execution_count": 174,
     "metadata": {},
     "output_type": "execute_result"
    }
   ],
   "source": [
    "## \n",
    "\n",
    "z = zeros(100) .+ 100\n",
    "\n",
    "z[end] = 0 #Boundary condition\n",
    "k = 1e-6\n",
    "Am = collect(1:length(z)) # Hack's law A ~ x^2, so if m = 0.5 then A^m ~ x\n",
    "n = 1\n",
    "dt = 100000\n",
    "dx=1\n",
    "u = .00001"
   ]
  },
  {
   "cell_type": "markdown",
   "id": "413088da",
   "metadata": {},
   "source": [
    "## Solution depends on how you discretize both space and time"
   ]
  },
  {
   "cell_type": "markdown",
   "id": "7bd229cc",
   "metadata": {},
   "source": [
    "## Explicit upwind FD (explicit =  Time discretization, upwind = space discretization)"
   ]
  },
  {
   "cell_type": "code",
   "execution_count": null,
   "id": "a5f02721",
   "metadata": {},
   "outputs": [],
   "source": [
    "@gif for i =1:500\n",
    "    \n",
    "    s = (z[1:end-1] .- z[2:end]) ./ dx\n",
    "    \n",
    "    z[1:end-1] .-= dt .* k .* Am[1:end-1] .* s\n",
    "    z[1:end-1] .+= u .* dt\n",
    "    plot(z,ylim=(-10,110),linewidth=2)\n",
    "end every 10\n"
   ]
  },
  {
   "cell_type": "markdown",
   "id": "22182f69",
   "metadata": {},
   "source": [
    "## Explicit central difference "
   ]
  },
  {
   "cell_type": "code",
   "execution_count": null,
   "id": "2c2fc49b",
   "metadata": {},
   "outputs": [],
   "source": [
    "@gif for i =1:500\n",
    "    \n",
    "    s = (z[1:end-2] .- z[3:end]) ./ dx\n",
    "    z[2:end-1] .-= dt .* k .* Am[2:end-1] .* s\n",
    "    z[1:end-1] .+= u .* dt\n",
    "    plot(z,ylim=(-10,110),linewidth=2)\n",
    "end every 10"
   ]
  },
  {
   "cell_type": "markdown",
   "id": "9a897874",
   "metadata": {},
   "source": [
    "## Implicit upwind FD"
   ]
  },
  {
   "cell_type": "code",
   "execution_count": null,
   "id": "82293081",
   "metadata": {},
   "outputs": [],
   "source": [
    "\n",
    "f = k .* Am .* dt ./ dx\n",
    "## stochastic component\n",
    "#k = .02 .* exp(-rand(1)[1]*50)\n",
    "##\n",
    "@gif for i =1:500\n",
    "    for j = length(z)-1:-1:1\n",
    "        z[j] = (z[j .+ 1] .*f[j] .+z[j]) ./ (1 .+ f[j])\n",
    "    end\n",
    "    z[1:end-1] .+= u .* dt\n",
    "    plot(z,ylim=(-10,110),linewidth=2)\n",
    "end every 10"
   ]
  },
  {
   "cell_type": "markdown",
   "id": "2cb02ad7",
   "metadata": {},
   "source": [
    "## Inversion linear"
   ]
  },
  {
   "cell_type": "code",
   "execution_count": 141,
   "id": "eb4db8bb",
   "metadata": {},
   "outputs": [],
   "source": [
    "chi = reverse(sum.(k ./ Am[end:-1:1]));"
   ]
  },
  {
   "cell_type": "code",
   "execution_count": null,
   "id": "d23ee4a7",
   "metadata": {},
   "outputs": [],
   "source": [
    "plot(chi)"
   ]
  },
  {
   "cell_type": "markdown",
   "id": "bb8a1ed8",
   "metadata": {},
   "source": [
    "## chi[1] * u + 0 = z[1]"
   ]
  },
  {
   "cell_type": "code",
   "execution_count": 143,
   "id": "fd338de1",
   "metadata": {},
   "outputs": [
    {
     "data": {
      "text/plain": [
       "1.596105864464753e-9"
      ]
     },
     "execution_count": 143,
     "metadata": {},
     "output_type": "execute_result"
    }
   ],
   "source": [
    "z_n = z\n",
    "z_n = z\\chi"
   ]
  },
  {
   "cell_type": "code",
   "execution_count": 149,
   "id": "0dc55660",
   "metadata": {},
   "outputs": [
    {
     "data": {
      "text/plain": [
       "0.9006470040151691"
      ]
     },
     "execution_count": 149,
     "metadata": {},
     "output_type": "execute_result"
    }
   ],
   "source": [
    "exp(-rand(1)[1])"
   ]
  },
  {
   "cell_type": "code",
   "execution_count": null,
   "id": "0c3d5561",
   "metadata": {},
   "outputs": [],
   "source": []
  }
 ],
 "metadata": {
  "kernelspec": {
   "display_name": "Julia 1.3.1",
   "language": "julia",
   "name": "julia-1.3"
  },
  "language_info": {
   "file_extension": ".jl",
   "mimetype": "application/julia",
   "name": "julia",
   "version": "1.3.1"
  }
 },
 "nbformat": 4,
 "nbformat_minor": 5
}
